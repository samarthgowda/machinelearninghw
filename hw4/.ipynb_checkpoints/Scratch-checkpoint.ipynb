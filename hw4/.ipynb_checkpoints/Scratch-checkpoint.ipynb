{
 "cells": [
  {
   "cell_type": "code",
   "execution_count": 3,
   "metadata": {},
   "outputs": [],
   "source": [
    "import numpy as np"
   ]
  },
  {
   "cell_type": "code",
   "execution_count": 7,
   "metadata": {},
   "outputs": [],
   "source": [
    "theta = np.array([1.5, 2, 1, 2, 3])\n",
    "X = np.array([(0, 0, 1, 0, 1), (0, 1, 0, 0, 0), (0, 1, 1, 0, 0), (1, 0, 0, 1, 0)])\n",
    "y = np.array([0, 1, 1, 0])"
   ]
  },
  {
   "cell_type": "code",
   "execution_count": 8,
   "metadata": {},
   "outputs": [],
   "source": [
    "trainTheta = np.array([-2,2,1])\n",
    "trainX = np.array([(1,2,4), (1,1,-1), (1,-2,1)])\n",
    "trainY = np.array([1, 1, 0])"
   ]
  },
  {
   "cell_type": "code",
   "execution_count": 5,
   "metadata": {},
   "outputs": [],
   "source": [
    "def sigmoid(x):\n",
    "    return 1 / (1 + np.exp(-x))"
   ]
  },
  {
   "cell_type": "code",
   "execution_count": 11,
   "metadata": {},
   "outputs": [
    {
     "name": "stdout",
     "output_type": "stream",
     "text": [
      "7.723415708807144\n"
     ]
    }
   ],
   "source": [
    "def J(theta, X, y):\n",
    "    rows, cols = X.shape\n",
    "    S = 0\n",
    "    for i in range(rows):\n",
    "        label = y[i]\n",
    "        xi = X[i]\n",
    "        sig = sigmoid((theta.T).dot(xi))\n",
    "        S += np.log(sig) if (label == 1) else np.log(1 - sig)\n",
    "    return (-S)\n",
    "        \n",
    "print(J(theta, X, y))\n"
   ]
  },
  {
   "cell_type": "code",
   "execution_count": 22,
   "metadata": {
    "scrolled": true
   },
   "outputs": [
    {
     "data": {
      "text/plain": [
       "-0.047425873177566635"
      ]
     },
     "execution_count": 22,
     "metadata": {},
     "output_type": "execute_result"
    }
   ],
   "source": [
    "def dJ(theta, xi, yi, xji):\n",
    "    return (sigmoid((theta.T).dot(xi)) - yi) * xji"
   ]
  },
  {
   "cell_type": "code",
   "execution_count": 42,
   "metadata": {
    "scrolled": true
   },
   "outputs": [
    {
     "name": "stdout",
     "output_type": "stream",
     "text": [
      "[ 0.97068777 -0.1666288   0.93458792  0.97068777  0.98201379]\n"
     ]
    }
   ],
   "source": [
    "def gradient(theta, X, y):\n",
    "    rows, cols = X.shape\n",
    "    gradients = np.zeros(cols)\n",
    "    for j in range(cols):\n",
    "        g = 0\n",
    "        for i in range(rows):\n",
    "            g += dJ(theta, X[i], y[i], X[i, j])\n",
    "        gradients[j] = g\n",
    "    return gradients"
   ]
  },
  {
   "cell_type": "code",
   "execution_count": 51,
   "metadata": {},
   "outputs": [],
   "source": [
    "def updateParams(theta, learningRate, gradients):\n",
    "    return (theta - (learningRate * gradients))"
   ]
  },
  {
   "cell_type": "code",
   "execution_count": 61,
   "metadata": {},
   "outputs": [
    {
     "data": {
      "text/plain": [
       "1.7912852768009715"
      ]
     },
     "execution_count": 61,
     "metadata": {},
     "output_type": "execute_result"
    }
   ],
   "source": [
    "def sparseDot(X, W):\n",
    "    product = 0\n",
    "    for i, v in X.items():\n",
    "        product += W[i] * v\n",
    "    return product\n",
    "'''\n",
    "    X = {\n",
    "        1: 1,\n",
    "        3: 1\n",
    "    }\n",
    "\n",
    "    W = np.random.random(6)\n",
    "\n",
    "    sparseDot(X, W)\n",
    "'''"
   ]
  },
  {
   "cell_type": "code",
   "execution_count": 53,
   "metadata": {},
   "outputs": [
    {
     "name": "stdout",
     "output_type": "stream",
     "text": [
      "[0.52931223 2.1666288  0.06541208 1.02931223 2.01798621]\n"
     ]
    }
   ],
   "source": [
    "print(updateParams(theta, 1, gradient(theta, X, y)))"
   ]
  }
 ],
 "metadata": {
  "kernelspec": {
   "display_name": "Python 3",
   "language": "python",
   "name": "python3"
  },
  "language_info": {
   "codemirror_mode": {
    "name": "ipython",
    "version": 3
   },
   "file_extension": ".py",
   "mimetype": "text/x-python",
   "name": "python",
   "nbconvert_exporter": "python",
   "pygments_lexer": "ipython3",
   "version": "3.7.4"
  }
 },
 "nbformat": 4,
 "nbformat_minor": 2
}
