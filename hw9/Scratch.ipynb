{
 "cells": [
  {
   "cell_type": "code",
   "execution_count": 7,
   "metadata": {
    "collapsed": true
   },
   "outputs": [],
   "source": [
    "import numpy as np\n",
    "import copy\n"
   ]
  },
  {
   "cell_type": "code",
   "execution_count": 21,
   "metadata": {},
   "outputs": [],
   "source": [
    "D = np.array([\n",
    "    [5.5, 3.1],\n",
    "    [5.1, 4.8],\n",
    "    [6.6, 3.0],\n",
    "    [5.5, 4.6],\n",
    "    [6.8, 3.8]\n",
    "])"
   ]
  },
  {
   "cell_type": "code",
   "execution_count": 22,
   "metadata": {},
   "outputs": [],
   "source": [
    "centers = np.array([\n",
    "    [5.3, 3.5],\n",
    "    [5.1, 4.2]\n",
    "])"
   ]
  },
  {
   "cell_type": "code",
   "execution_count": 23,
   "metadata": {},
   "outputs": [],
   "source": [
    "new_centers = copy.deepcopy(centers)\n",
    "assignments = [set() for i in range(len(new_centers))]"
   ]
  },
  {
   "cell_type": "code",
   "execution_count": 24,
   "metadata": {},
   "outputs": [],
   "source": [
    "for index, point in enumerate(D):\n",
    "    closest_center = -1\n",
    "    closest_center_dist = 100000000000000000\n",
    "    for i in range(len(centers)):\n",
    "        cx, cy = centers[i][0], centers[i][1]\n",
    "        dist = np.sqrt((cx - point[0])**2 + (cy - point[1])**2)\n",
    "        if dist < closest_center_dist:\n",
    "            closest_center = i\n",
    "            closest_center_dist = dist\n",
    "    set_to_add = assignments[closest_center]\n",
    "    set_to_add.add(index)\n",
    "\n",
    "for ci, center in enumerate(assignments):\n",
    "    totalX, totalY = 0, 0\n",
    "    for point_index in center:\n",
    "        totalX += D[point_index][0]\n",
    "        totalY += D[point_index][1]\n",
    "    new_centers[ci][0] = totalX / len(center)\n",
    "    new_centers[ci][1] = totalY / len(center)\n",
    "        \n",
    "        "
   ]
  },
  {
   "cell_type": "code",
   "execution_count": 25,
   "metadata": {},
   "outputs": [
    {
     "data": {
      "text/plain": [
       "array([[6.3, 3.3],\n       [5.3, 4.7]])"
      ]
     },
     "execution_count": 25,
     "metadata": {},
     "output_type": "execute_result"
    }
   ],
   "source": [
    "new_centers"
   ]
  },
  {
   "cell_type": "code",
   "execution_count": null,
   "metadata": {},
   "outputs": [],
   "source": []
  }
 ],
 "metadata": {
  "kernelspec": {
   "display_name": "Python 2",
   "language": "python",
   "name": "python2"
  },
  "language_info": {
   "codemirror_mode": {
    "name": "ipython",
    "version": 2
   },
   "file_extension": ".py",
   "mimetype": "text/x-python",
   "name": "python",
   "nbconvert_exporter": "python",
   "pygments_lexer": "ipython2",
   "version": "2.7.6"
  }
 },
 "nbformat": 4,
 "nbformat_minor": 0
}
