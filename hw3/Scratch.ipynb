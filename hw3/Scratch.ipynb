{
 "cells": [
  {
   "cell_type": "code",
   "execution_count": null,
   "metadata": {},
   "outputs": [],
   "source": [
    "import numpy as np\n",
    "import matplotlib.pyplot as plt"
   ]
  },
  {
   "cell_type": "code",
   "execution_count": 43,
   "metadata": {},
   "outputs": [
    {
     "data": {
      "text/plain": [
       "array([[2.20e+00, 3.40e+00, 4.50e+01],\n",
       "       [3.90e+00, 2.90e+00, 5.50e+01],\n",
       "       [3.70e+00, 3.60e+00, 9.10e+01],\n",
       "       [4.00e+00, 4.00e+00, 1.42e+02],\n",
       "       [2.80e+00, 3.50e+00, 8.80e+01],\n",
       "       [3.50e+00, 1.00e+00, 2.60e+03],\n",
       "       [3.80e+00, 4.00e+00, 1.63e+02],\n",
       "       [3.10e+00, 2.50e+00, 6.70e+01]])"
      ]
     },
     "execution_count": 43,
     "metadata": {},
     "output_type": "execute_result"
    }
   ],
   "source": [
    "data = np.array([[2.2, 3.4, 45], [3.9, 2.9, 55], [3.7, 3.6, 91], [4.0, 4.0, 142], [2.8, 3.5, 88], [3.5, 1.0, 2600], [3.8, 4.0, 163], [3.1, 2.5, 67]])\n",
    "student = np.array([3.5, 3.6])\n",
    "data"
   ]
  },
  {
   "cell_type": "code",
   "execution_count": 18,
   "metadata": {},
   "outputs": [],
   "source": [
    "d = dict()\n",
    "for (i, val) in enumerate(data):\n",
    "    dist = ((val[0] - student[0])**2 + (val[1] - student[1])**2)**0.5\n",
    "    sal = val[2]\n",
    "    d[i] = (dist, sal)\n",
    "        \n",
    "            "
   ]
  },
  {
   "cell_type": "code",
   "execution_count": 19,
   "metadata": {},
   "outputs": [
    {
     "data": {
      "text/plain": [
       "132.0"
      ]
     },
     "execution_count": 19,
     "metadata": {},
     "output_type": "execute_result"
    }
   ],
   "source": [
    "(d[2][1] + d[3][1] + d[6][1])/3\n"
   ]
  },
  {
   "cell_type": "code",
   "execution_count": 44,
   "metadata": {},
   "outputs": [
    {
     "data": {
      "text/plain": [
       "array([[5.50e-01, 8.50e-01, 4.50e+01],\n",
       "       [9.75e-01, 7.25e-01, 5.50e+01],\n",
       "       [9.25e-01, 9.00e-01, 9.10e+01],\n",
       "       [1.00e+00, 1.00e+00, 1.42e+02],\n",
       "       [7.00e-01, 8.75e-01, 8.80e+01],\n",
       "       [8.75e-01, 2.50e-01, 2.60e+03],\n",
       "       [9.50e-01, 1.00e+00, 1.63e+02],\n",
       "       [7.75e-01, 6.25e-01, 6.70e+01]])"
      ]
     },
     "execution_count": 44,
     "metadata": {},
     "output_type": "execute_result"
    }
   ],
   "source": [
    "data[:,0] = data[:,0] / 4.0\n",
    "data[:,1] = data[:,1] / 4.0\n",
    "\n",
    "data"
   ]
  },
  {
   "cell_type": "code",
   "execution_count": 45,
   "metadata": {},
   "outputs": [
    {
     "data": {
      "text/plain": [
       "<matplotlib.collections.PathCollection at 0x11c7e6690>"
      ]
     },
     "execution_count": 45,
     "metadata": {},
     "output_type": "execute_result"
    },
    {
     "data": {
      "image/png": "[encoded data removed]",
      "text/plain": [
       "<Figure size 432x288 with 1 Axes>"
      ]
     },
     "metadata": {
      "needs_background": "light"
     },
     "output_type": "display_data"
    }
   ],
   "source": [
    "plt.scatter(data[:, 0], data[:, 1], data[:, 2])"
   ]
  },
  {
   "cell_type": "code",
   "execution_count": null,
   "metadata": {},
   "outputs": [],
   "source": []
  }
 ],
 "metadata": {
  "kernelspec": {
   "display_name": "Python 3",
   "language": "python",
   "name": "python3"
  },
  "language_info": {
   "codemirror_mode": {
    "name": "ipython",
    "version": 3
   },
   "file_extension": ".py",
   "mimetype": "text/x-python",
   "name": "python",
   "nbconvert_exporter": "python",
   "pygments_lexer": "ipython3",
   "version": "3.7.4"
  }
 },
 "nbformat": 4,
 "nbformat_minor": 2
}
